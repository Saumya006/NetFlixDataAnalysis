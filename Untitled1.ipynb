{
 "cells": [
  {
   "cell_type": "code",
   "execution_count": 3,
   "id": "cc5bb693-37f7-401f-b7eb-9859d1f66d27",
   "metadata": {},
   "outputs": [],
   "source": [
    "import pandas as pd\n",
    "\n",
    "movies = pd.read_csv('mymoviedb.csv', lineterminator='\\n') # Load movie dataset\n"
   ]
  },
  {
   "cell_type": "code",
   "execution_count": 6,
   "id": "3a5feb25-2fb1-4b5e-a52c-bbc3e7a052f8",
   "metadata": {},
   "outputs": [],
   "source": [
    "from sklearn.feature_extraction.text import TfidfVectorizer\n",
    "\n",
    "tfidf = TfidfVectorizer(stop_words='english')\n",
    "movies['Genre'] = movies['Genre'].fillna('')  # Handle missing values\n",
    "tfidf_matrix = tfidf.fit_transform(movies['Genre'])  \n"
   ]
  },
  {
   "cell_type": "code",
   "execution_count": 7,
   "id": "25590c3c-7a88-4d8e-912c-a3c8a09ea0f2",
   "metadata": {},
   "outputs": [],
   "source": [
    "from sklearn.metrics.pairwise import cosine_similarity\n",
    "\n",
    "cosine_sim = cosine_similarity(tfidf_matrix, tfidf_matrix)\n"
   ]
  },
  {
   "cell_type": "code",
   "execution_count": 9,
   "id": "286d8985-3a82-4e7e-a59b-5b0c18a535c3",
   "metadata": {},
   "outputs": [
    {
     "name": "stdout",
     "output_type": "stream",
     "text": [
      "22     Venom: Let There Be Carnage\n",
      "23        The Matrix Resurrections\n",
      "71          Avengers: Infinity War\n",
      "73                     Black Widow\n",
      "76                        Moonfall\n",
      "99                The Tomorrow War\n",
      "138                   The Avengers\n",
      "144      Spider-Man: Far From Home\n",
      "171              Avengers: Endgame\n",
      "204                     Iron Man 2\n",
      "Name: Title, dtype: object\n"
     ]
    }
   ],
   "source": [
    "def recommend_movies(title, cosine_sim=cosine_sim):\n",
    "    idx = movies[movies['Title'] == title].index[0]  # Get movie index\n",
    "    sim_scores = list(enumerate(cosine_sim[idx]))  \n",
    "    sim_scores = sorted(sim_scores, key=lambda x: x[1], reverse=True)  # Sort by similarity\n",
    "    sim_scores = sim_scores[1:11]  # Get top 10 similar movies\n",
    "    movie_indices = [i[0] for i in sim_scores]\n",
    "    return movies['Title'].iloc[movie_indices]\n",
    "\n",
    "print(recommend_movies(\"Spider-Man: No Way Home\"))\n"
   ]
  },
  {
   "cell_type": "code",
   "execution_count": null,
   "id": "6caa2272-d425-46b9-9f78-61ba083da6a5",
   "metadata": {},
   "outputs": [],
   "source": [
    "from surprise import Dataset, Reader, SVD\n",
    "from surprise.model_selection import train_test_split, cross_validate\n",
    "\n",
    "reader = Reader(rating_scale=(0.5, 5))  \n",
    "data = Dataset.load_from_df(movies[['userId', 'movieId', 'rating']], reader)  \n",
    "trainset, testset = train_test_split(data, test_size=0.2)\n",
    "\n",
    "model = SVD()  # Singular Value Decomposition\n",
    "model.fit(trainset)\n",
    "predictions = model.test(testset)\n",
    "\n"
   ]
  }
 ],
 "metadata": {
  "kernelspec": {
   "display_name": "Python 3 (ipykernel)",
   "language": "python",
   "name": "python3"
  },
  "language_info": {
   "codemirror_mode": {
    "name": "ipython",
    "version": 3
   },
   "file_extension": ".py",
   "mimetype": "text/x-python",
   "name": "python",
   "nbconvert_exporter": "python",
   "pygments_lexer": "ipython3",
   "version": "3.10.5"
  }
 },
 "nbformat": 4,
 "nbformat_minor": 5
}
